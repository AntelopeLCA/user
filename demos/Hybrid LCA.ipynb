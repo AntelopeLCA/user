{
 "cells": [
  {
   "cell_type": "markdown",
   "id": "a8dcd0ca-243a-4919-85c2-5f97bf959a3f",
   "metadata": {},
   "source": [
    "# Hybrid LCA\n",
    "### \"you mean it's that easy?\"\n",
    "\n",
    "Hybrid LCA has a certain mystique about it but it's really just the same-- the only difference is that things are \n",
    "measured in dollars instead of units.  In a graph-based modeling framework, mixing process-based and EEIO data is\n",
    "trivial."
   ]
  },
  {
   "cell_type": "code",
   "execution_count": 1,
   "id": "61adef2c-5010-40a1-85c7-0253de585519",
   "metadata": {},
   "outputs": [],
   "source": [
    "from antelope_foreground import ForegroundCatalog\n",
    "from antelope import enum"
   ]
  },
  {
   "cell_type": "code",
   "execution_count": 2,
   "id": "7d9930bd-1c75-4e89-b155-5cca602461a2",
   "metadata": {},
   "outputs": [
    {
     "name": "stdout",
     "output_type": "stream",
     "text": [
      "Loading JSON data from /home/b/size/lib/python3.11/site-packages/antelope_core/archives/data/elcd_reference_quantities.json:\n",
      "local.qdb: /home/b/size/lib/python3.11/site-packages/antelope_core/archives/data/elcd_reference_quantities.json\n",
      "local.qdb: Setting NSUUID (False) 77833297-6780-49bf-a61a-0cb707dce700\n",
      "local.qdb: /data/GitHub/lca-tools/lcatools/qdb/data/elcd_reference_quantities.json\n",
      "28 total quantity entities added (28 new)\n",
      "6 total flow entities added (6 new)\n"
     ]
    },
    {
     "name": "stdin",
     "output_type": "stream",
     "text": [
      "Enter password to access blackbook server at https://sc.vault.lc:  ········\n"
     ]
    },
    {
     "name": "stdout",
     "output_type": "stream",
     "text": [
      "POST https://sc.vault.lc/auth/token.. 200 [0.52 sec]\n",
      "Welcome back to blackbook, hosted by ANTELOPE_AUTHORITY.\n",
      "Username: bkuczenski, email: bkuczenski@ucsb.edu\n",
      "Last login: Mon Sep 23 04:34:03 2024 \n",
      "token expires in 36000 s\n"
     ]
    }
   ],
   "source": [
    "cat = ForegroundCatalog()\n",
    "cat.blackbook_authenticate('https://sc.vault.lc', 'bkuczenski')\n"
   ]
  },
  {
   "cell_type": "markdown",
   "id": "109f3a3d-dfea-42d6-bdfb-b60d291bd05f",
   "metadata": {},
   "source": [
    "Our approach here will be to find a USLCI process with a cutoff flow, and patch it with USEEIO"
   ]
  },
  {
   "cell_type": "code",
   "execution_count": 3,
   "id": "2a67f25a-66b0-44b5-a249-41b3292f5d61",
   "metadata": {},
   "outputs": [
    {
     "name": "stdout",
     "output_type": "stream",
     "text": [
      "GET https://sc.vault.lc/origins/lcacommons.uslci.fy24.q1.01/resource.. 200 [0.14 sec]\n",
      "GET https://sc.vault.lc/origins/lcacommons.useeio.2.0.1/resource.. 200 [0.29 sec]\n",
      "GET https://sc.vault.lc/origins/lcia.traci.2.1/resource.. 200 [0.13 sec]\n"
     ]
    }
   ],
   "source": [
    "r_uslci = cat.get_blackbook_resources('lcacommons.uslci.fy24.q1.01')\n",
    "r_useeio = cat.get_blackbook_resources('lcacommons.useeio.2.0.1')\n",
    "r_traci = cat.get_blackbook_resources('lcia.traci.2.1')"
   ]
  },
  {
   "cell_type": "markdown",
   "id": "d2f8abc1-d196-4dd9-9fd4-5a0b4626b719",
   "metadata": {},
   "source": [
    "# Part 1 - Modeling Vinyl Ester Resin \n",
    "First we find the foreground process that describes our product"
   ]
  },
  {
   "cell_type": "code",
   "execution_count": 4,
   "id": "dd747cce-b3e3-4e5d-a52d-a759b4accd1b",
   "metadata": {},
   "outputs": [
    {
     "name": "stdout",
     "output_type": "stream",
     "text": [
      "QQQQQQQQQQQQQQQQQQ lcacommons.uslci.fy24.q1.01 QQQQQQQQQQQQQQQQQQ\n",
      "Found Antelope providers:\n",
      "AntelopeMeta:_dev\n",
      "antelope_core.providers:IlcdArchive\n",
      "antelope_core.providers:IlcdLcia\n",
      "antelope_core.providers:EcospoldV2Archive\n",
      "antelope_core.providers:EcospoldV1Archive\n",
      "antelope_core.providers:EcoinventLcia\n",
      "antelope_core.providers:OpenLcaJsonLdArchive\n",
      "antelope_core.providers:Traci21Factors\n",
      "antelope_core.providers:XdbClient\n",
      "antelope_core.providers:OpenLcaRefData\n",
      "antelope_background.providers:TarjanBackground\n",
      "antelope_background.providers:Background\n",
      "antelope_foreground.providers:AntelopeV1Client\n",
      "antelope_foreground.providers:LcForeground\n",
      "antelope_foreground.providers:OryxClient\n",
      "GET https://bk.vault.lc/origins.. 200 [0.18 sec]\n",
      "lcacommons.uslci.fy24.q1.01: https://bk.vault.lc/\n",
      "lcacommons.uslci.fy24.q1.01: Setting NSUUID (False) None\n",
      "GET https://bk.vault.lc/lcacommons.uslci.fy24.q1.01/config.. 200 [0.05 sec]\n",
      "Applying configuration to XdbClient with 0 entities at https://bk.vault.lc/\n"
     ]
    }
   ],
   "source": [
    "q_uslci = cat.query(r_uslci[0].origin)"
   ]
  },
  {
   "cell_type": "code",
   "execution_count": 5,
   "id": "ea992f8a-a4e3-4dc5-8510-2b2db4aade57",
   "metadata": {},
   "outputs": [
    {
     "name": "stdout",
     "output_type": "stream",
     "text": [
      "GET https://bk.vault.lc/lcacommons.uslci.fy24.q1.01/flows.. 200 [0.10 sec]\n",
      " [00] [lcacommons.uslci.fy24.q1.01] Vinyl ester resin; at plant [kg]\n",
      " [01] [lcacommons.uslci.fy24.q1.01] Polyvinyl chloride, PVC, resin; at plant [kg]\n",
      " [02] [lcacommons.uslci.fy24.q1.01] Polyvinyl chloride, bulk polymerised - GLO  [kg]\n",
      " [03] [lcacommons.uslci.fy24.q1.01] Polyvinylidene fluoride [kg]\n",
      " [04] [lcacommons.uslci.fy24.q1.01] Polyvinyl chloride, PVC, pre-consumer waste, for primary recycling [kg]\n",
      " [05] [lcacommons.uslci.fy24.q1.01] Vinyl acetylene [kg]\n",
      " [06] [lcacommons.uslci.fy24.q1.01] Vinyl chloride [kg]\n",
      " [07] [lcacommons.uslci.fy24.q1.01] Polyvinyl Acetate [kg]\n",
      " [08] [lcacommons.uslci.fy24.q1.01] Vinyl chloride [kg]\n",
      " [09] [lcacommons.uslci.fy24.q1.01] Vinyltoluene [kg]\n",
      " [10] [lcacommons.uslci.fy24.q1.01] Polyvinyl chloride, PVC, waste [kg]\n",
      " [11] [lcacommons.uslci.fy24.q1.01] Vinyl acetate, at plant [kg]\n",
      " [12] [lcacommons.uslci.fy24.q1.01] Polyvinyl chloride, PVC, post-consumer, for secondary recycling [kg]\n",
      " [13] [lcacommons.uslci.fy24.q1.01] Vinyl chloride [kg]\n",
      " [14] [lcacommons.uslci.fy24.q1.01] Polyvinyl chloride, PVC, pre-consumer, for secondary recycling [kg]\n",
      " [15] [lcacommons.uslci.fy24.q1.01] Vinyl acetate [kg]\n",
      " [16] [lcacommons.uslci.fy24.q1.01] Ethylene dichloride-vinyl chloride, EDC-VCM, monomer; at plant [kg]\n",
      " [17] [lcacommons.uslci.fy24.q1.01] Vinyl chloride [kg]\n",
      " [18] [lcacommons.uslci.fy24.q1.01] Polyvinyl chloride, PVC, pre-consumer waste, for primary recycling  [kg]\n",
      " [19] [lcacommons.uslci.fy24.q1.01] Vinyl chloride [kg]\n"
     ]
    }
   ],
   "source": [
    "pvcs = enum(q_uslci.flows(name='vinyl'))"
   ]
  },
  {
   "cell_type": "code",
   "execution_count": 6,
   "id": "fd437adc-d2c9-4225-8050-62b04566df05",
   "metadata": {},
   "outputs": [
    {
     "name": "stdout",
     "output_type": "stream",
     "text": [
      "GET https://bk.vault.lc/lcacommons.uslci.fy24.q1.01/259a0eef-9855-4671-9b2d-7242326b3e6b/targets.. 200 [0.05 sec]\n",
      " [00] [lcacommons.uslci.fy24.q1.01] Vinyl ester resin; at plant [United States]\n"
     ]
    }
   ],
   "source": [
    "tgts = enum(pvcs[0].targets())"
   ]
  },
  {
   "cell_type": "code",
   "execution_count": 7,
   "id": "b20068bb-a019-4838-976b-65997a71f749",
   "metadata": {},
   "outputs": [
    {
     "name": "stdout",
     "output_type": "stream",
     "text": [
      "QQQQQQQQQQQQQQQQQQ hybrid QQQQQQQQQQQQQQQQQQ\n",
      "hybrid: hybrid\n",
      "hybrid: Setting NSUUID (None) None\n",
      "Loading hybrid\n",
      "0 total fragment entities added (0 new)\n"
     ]
    }
   ],
   "source": [
    "fg = cat.create_foreground('hybrid')"
   ]
  },
  {
   "cell_type": "code",
   "execution_count": 8,
   "id": "e16bb84b-7244-46aa-93be-f6a4bb4c6866",
   "metadata": {},
   "outputs": [
    {
     "name": "stdout",
     "output_type": "stream",
     "text": [
      "GET https://bk.vault.lc/lcacommons.uslci.fy24.q1.01/5fea6b91-f71b-4a8f-864f-b64af87e8b75/exchanges/259a0eef-9855-4671-9b2d-7242326b3e6b.. 200 [0.05 sec]\n",
      "GET https://bk.vault.lc/lcacommons.uslci.fy24.q1.01/contexts/3252: Resin, Synthetic Rubber, and Artificial and Synthetic Fibers and Filaments Manufacturing.. 200 [0.05 sec]\n",
      "GET https://bk.vault.lc/lcacommons.uslci.fy24.q1.01/contexts/31-33: Manufacturing.. 200 [0.05 sec]\n",
      "GET https://bk.vault.lc/lcacommons.uslci.fy24.q1.01/contexts/Technosphere Flows.. 200 [0.05 sec]\n"
     ]
    }
   ],
   "source": [
    "pvc_model = fg.create_process_model(tgts[0])"
   ]
  },
  {
   "cell_type": "code",
   "execution_count": 9,
   "id": "22eb9362-38f6-4f67-afc0-a64a97803002",
   "metadata": {},
   "outputs": [
    {
     "name": "stdout",
     "output_type": "stream",
     "text": [
      "GET https://bk.vault.lc/lcacommons.uslci.fy24.q1.01/5fea6b91-f71b-4a8f-864f-b64af87e8b75/259a0eef-9855-4671-9b2d-7242326b3e6b/inventory.. 200 [0.09 sec]\n",
      "GET https://bk.vault.lc/lcacommons.uslci.fy24.q1.01/contexts/CUTOFF Flows.. 200 [0.05 sec]\n",
      "GET https://bk.vault.lc/lcacommons.uslci.fy24.q1.01/contexts/from water.. 200 [0.05 sec]\n",
      "GET https://bk.vault.lc/lcacommons.uslci.fy24.q1.01/contexts/to air.. 200 [0.05 sec]\n",
      "GET https://bk.vault.lc/lcacommons.uslci.fy24.q1.01/f6811440-ee37-11de-8a39-0800200c9a66.. 200 [0.05 sec]\n",
      "GET https://bk.vault.lc/lcacommons.uslci.fy24.q1.01/dce702f1-03a1-3fe9-bb48-94a5217fd8cb.. 200 [0.05 sec]\n",
      "GET https://bk.vault.lc/lcacommons.uslci.fy24.q1.01/contexts/4841: General Freight Trucking.. 200 [0.06 sec]\n",
      "GET https://bk.vault.lc/lcacommons.uslci.fy24.q1.01/contexts/48-49: Transportation and Warehousing.. 200 [0.05 sec]\n",
      "GET https://bk.vault.lc/lcacommons.uslci.fy24.q1.01/2daa9b57-fd08-4bdf-9e15-2ec7a432aa70.. 200 [0.05 sec]\n",
      "GET https://bk.vault.lc/lcacommons.uslci.fy24.q1.01/759a9b22-1de5-49fe-ac1d-0c287b2ef93e.. 200 [0.05 sec]\n",
      "GET https://bk.vault.lc/lcacommons.uslci.fy24.q1.01/contexts/2213: Water, Sewage and Other Systems.. 200 [0.05 sec]\n",
      "GET https://bk.vault.lc/lcacommons.uslci.fy24.q1.01/contexts/22: Utilities.. 200 [0.05 sec]\n",
      "GET https://bk.vault.lc/lcacommons.uslci.fy24.q1.01/89389d98-1ba6-30c5-9c33-92443694936b.. 200 [0.05 sec]\n",
      "GET https://bk.vault.lc/lcacommons.uslci.fy24.q1.01/contexts/2211: Electric Power Generation, Transmission and Distribution.. 200 [0.05 sec]\n",
      "GET https://bk.vault.lc/lcacommons.uslci.fy24.q1.01/1e2429d8-8d91-328f-85c3-18d39bdebfa7.. 200 [0.05 sec]\n",
      "GET https://bk.vault.lc/lcacommons.uslci.fy24.q1.01/contexts/4831: Deep Sea, Coastal, and Great Lakes Water Transportation.. 200 [0.05 sec]\n",
      "GET https://bk.vault.lc/lcacommons.uslci.fy24.q1.01/e2884390-2613-3d46-81d2-6051ecadc9c2.. 200 [0.05 sec]\n",
      "GET https://bk.vault.lc/lcacommons.uslci.fy24.q1.01/contexts/3251: Basic Chemical Manufacturing.. 200 [0.05 sec]\n",
      "GET https://bk.vault.lc/lcacommons.uslci.fy24.q1.01/7de9c230-fd0f-3478-be87-f80181132faa.. 200 [0.05 sec]\n",
      "GET https://bk.vault.lc/lcacommons.uslci.fy24.q1.01/contexts/4821: Rail Transportation.. 200 [0.05 sec]\n"
     ]
    },
    {
     "data": {
      "text/plain": [
       "<antelope_foreground.entities.fragments.LcFragment at 0x7361f7599190>"
      ]
     },
     "execution_count": 9,
     "metadata": {},
     "output_type": "execute_result"
    }
   ],
   "source": [
    "fg.extend_process(pvc_model)"
   ]
  },
  {
   "cell_type": "code",
   "execution_count": 10,
   "id": "11bf21b1-ccaa-4323-b73b-d41d9ae18fac",
   "metadata": {},
   "outputs": [
    {
     "name": "stdout",
     "output_type": "stream",
     "text": [
      "   -<--O   76ad1 [       1 kg] Vinyl ester resin; at plant\n",
      "    [   1 unit] Vinyl ester resin; at plant\n",
      "       |        Stage: Vinyl ester resin; at plant\n",
      "       | -<--*   43445 (=      1 kg) Vinyl ester resin; at plant\n",
      "       |  [   1 kg] Vinyl ester resin; at plant\n",
      "       |     |        Stage: CUTOFF Flows\n",
      "       |     | -<----: 0d007 [   0.079 kg] Bisphenol A, at plant\n",
      "       |     | -<----: ffb3e [   0.129 kg] Acrylic acid, at plant\n",
      "       |     | -<----: cadce [  0.0252 MJ] Electricity, from renewable source, unspecified\n",
      "       |     | -<----: 4c697 [   0.005 kg] Silica sand, at plant\n",
      "       |     | =>=---: 4fc40 [ 0.00064 kg] Disposal, solid waste, to incineration with energy recovery\n",
      "       |     | =>=---: 41552 [   2e-05 kg] Disposal, hazardous waste, to incineration without energy recovery\n",
      "       |     | =>=---: ad7a0 [ 0.00437 kg] Disposal, solid waste, process, to sanitary landfill\n",
      "       |     | =>=---: 55852 [ 0.00166 kg] Recycling, solid waste, to recycling or reuse\n",
      "       |     | =>=---: c7a37 [ 0.00016 kg] Disposal, solid waste, to incineration without energy recovery\n",
      "       |     | =>=---: 59127 [ 0.00225 kg] Disposal, hazardous waste, to incineration with energy recovery\n",
      "       |     |        Stage: Electricity, at Grid, US, 2010\n",
      "       |     | -<--B*  79108 [   0.677 MJ] Electricity, at grid\n",
      "       |     |        Stage: Epoxy; at plant\n",
      "       |     | -<--B*  2ee08 [   0.428 kg] Epoxy, at plant\n",
      "       |     |        Stage: Natural gas, combusted in industrial boiler\n",
      "       |     | -<--B*  80542 [   0.054 m3] Natural gas, combusted in industrial boiler\n",
      "       |     |        Stage: Styrene; at plant\n",
      "       |     | -<--B*  770da [   0.364 kg] Styrene, at plant\n",
      "       |     |        Stage: Transport, combination truck, average fuel mix\n",
      "       |     | -<--B*  66c38 [   0.483 t*km] Transport, combination truck, average fuel mix\n",
      "       |     |        Stage: Transport, ocean freighter, average fuel mix\n",
      "       |     | -<--B*  884ea [    2.96 t*km] Transport, ocean freighter, average fuel mix\n",
      "       |     |        Stage: Transport, train, diesel powered\n",
      "       |     | -<--B*  a9c3d [   0.813 t*km] Transport, train, diesel powered\n",
      "       |     x \n",
      "       x \n"
     ]
    }
   ],
   "source": [
    "pvc_model.show_tree()"
   ]
  },
  {
   "cell_type": "code",
   "execution_count": 11,
   "id": "7e1f032d-c10b-4aff-96f5-62e0678dcf27",
   "metadata": {},
   "outputs": [
    {
     "name": "stdout",
     "output_type": "stream",
     "text": [
      " [00] [ Vinyl ester resin; at plant ] <--  0.129 (kg) Acrylic acid, at plant  (cutoff)\n",
      " [01] [ Vinyl ester resin; at plant ] <--  0.079 (kg) Bisphenol A, at plant  (cutoff)\n",
      " [02] [ Vinyl ester resin; at plant ] <--  0.0252 (MJ) Electricity, from renewable source, unspecified  (cutoff)\n",
      " [03] [ Vinyl ester resin; at plant ] <--  0.005 (kg) Silica sand, at plant  (cutoff)\n",
      " [04] [ Vinyl ester resin; at plant ]*==>  1 (kg) Vinyl ester resin; at plant \n",
      " [05] [ Vinyl ester resin; at plant ] ==>  0.00437 (kg) Disposal, solid waste, process, to sanitary landfill  (cutoff)\n",
      " [06] [ Vinyl ester resin; at plant ] ==>  0.00225 (kg) Disposal, hazardous waste, to incineration with energy recovery  (cutoff)\n",
      " [07] [ Vinyl ester resin; at plant ] ==>  0.00166 (kg) Recycling, solid waste, to recycling or reuse  (cutoff)\n",
      " [08] [ Vinyl ester resin; at plant ] ==>  0.00064 (kg) Disposal, solid waste, to incineration with energy recovery  (cutoff)\n",
      " [09] [ Vinyl ester resin; at plant ] ==>  0.00016 (kg) Disposal, solid waste, to incineration without energy recovery  (cutoff)\n",
      " [10] [ Vinyl ester resin; at plant ] ==>  2e-05 (kg) Disposal, hazardous waste, to incineration without energy recovery  (cutoff)\n"
     ]
    }
   ],
   "source": [
    "_=enum(pvc_model.cutoffs())"
   ]
  },
  {
   "cell_type": "markdown",
   "id": "2e63c9f1-a559-456a-82f0-ef839ce6187c",
   "metadata": {},
   "source": [
    "## Part 1a - GWP"
   ]
  },
  {
   "cell_type": "code",
   "execution_count": 12,
   "id": "88e4fc0c-f291-470d-b370-599acda2b619",
   "metadata": {},
   "outputs": [
    {
     "name": "stdout",
     "output_type": "stream",
     "text": [
      "QQQQQQQQQQQQQQQQQQ lcia.traci.2.1 QQQQQQQQQQQQQQQQQQ\n",
      "GET https://bk.vault.lc/origins.. 200 [0.18 sec]\n",
      "lcia.traci.2.1: https://bk.vault.lc/\n",
      "lcia.traci.2.1: Setting NSUUID (False) None\n",
      "GET https://bk.vault.lc/lcia.traci.2.1/config.. 200 [0.05 sec]\n",
      "Applying configuration to XdbClient with 0 entities at https://bk.vault.lc/\n",
      "Applying context hint lcia.traci.2.1:water => to water\n",
      "Applying context hint lcia.traci.2.1:air => to air\n",
      "GET https://bk.vault.lc/lcia.traci.2.1/Global Warming Air.. 200 [0.05 sec]\n"
     ]
    }
   ],
   "source": [
    "gwp = cat.query(r_traci[0].origin).get('Global Warming Air')"
   ]
  },
  {
   "cell_type": "code",
   "execution_count": 13,
   "id": "d1805b60-3151-48bc-a0cc-ffc6e1bf137b",
   "metadata": {},
   "outputs": [
    {
     "name": "stdout",
     "output_type": "stream",
     "text": [
      "POST https://bk.vault.lc/lcacommons.uslci.fy24.q1.01/5fea6b91-f71b-4a8f-864f-b64af87e8b75/259a0eef-9855-4671-9b2d-7242326b3e6b/lcia/Global Warming Air.. 200 [0.06 sec]\n",
      "GET https://bk.vault.lc/lcacommons.uslci.fy24.q1.01/dce702f1-03a1-3fe9-bb48-94a5217fd8cb/2afb4e2f-b224-3900-956f-03e3f27b276b/lcia/Global Warming Air.. 200 [0.12 sec]\n",
      "GET https://bk.vault.lc/lcacommons.uslci.fy24.q1.01/2daa9b57-fd08-4bdf-9e15-2ec7a432aa70/32ed714f-405b-4678-9589-c5c0b5e055d4/lcia/Global Warming Air.. 200 [0.08 sec]\n",
      "GET https://bk.vault.lc/lcacommons.uslci.fy24.q1.01/759a9b22-1de5-49fe-ac1d-0c287b2ef93e/ea8515c5-e3d4-4f42-a856-67a9b85b30a0/lcia/Global Warming Air.. 200 [0.08 sec]\n",
      "GET https://bk.vault.lc/lcacommons.uslci.fy24.q1.01/89389d98-1ba6-30c5-9c33-92443694936b/06581fb2-1de0-3e78-8298-f37605dea142/lcia/Global Warming Air.. 200 [0.08 sec]\n",
      "GET https://bk.vault.lc/lcacommons.uslci.fy24.q1.01/1e2429d8-8d91-328f-85c3-18d39bdebfa7/0e63d1db-e383-3c9a-b02a-b5eebafe87d1/lcia/Global Warming Air.. 200 [0.09 sec]\n",
      "GET https://bk.vault.lc/lcacommons.uslci.fy24.q1.01/e2884390-2613-3d46-81d2-6051ecadc9c2/4a72778b-37b3-3c70-bcdc-b47701e7fe74/lcia/Global Warming Air.. 200 [0.08 sec]\n",
      "GET https://bk.vault.lc/lcacommons.uslci.fy24.q1.01/7de9c230-fd0f-3478-be87-f80181132faa/73c7494d-4e93-3769-896b-8bb82f0dfccc/lcia/Global Warming Air.. 200 [0.10 sec]\n",
      "[lcia.traci.2.1] Global Warming Air [kg CO2 eq] [TRACI 2.1] kg CO2 eq\n",
      "------------------------------------------------------------\n",
      "S      3.05 =      0.428 x       7.13 | 2ee08       0.428 [ Input] -B*  Epoxy; at plant [United States]\n",
      "S      1.16 =      0.364 x       3.18 | 770da       0.364 [ Input] -B*  Styrene; at plant [Northern America]\n",
      "S     0.132 =      0.054 x       2.44 | 80542       0.054 [ Input] -B*  Natural gas, combusted in industrial boiler [Northern America]\n",
      "S     0.101 =      0.677 x       0.15 | 79108       0.677 [ Input] -B*  Electricity, at Grid, US, 2010 [Northern America]\n",
      "S      0.06 =       2.96 x     0.0203 | 884ea        2.96 [ Input] -B*  Transport, ocean freighter, average fuel mix [United States]\n",
      "S    0.0495 =      0.483 x      0.103 | 66c38       0.483 [ Input] -B*  Transport, combination truck, average fuel mix [Northern America]\n",
      "S    0.0198 =      0.813 x     0.0244 | a9c3d       0.813 [ Input] -B*  Transport, train, diesel powered [Northern America]\n",
      "==========\n",
      "      4.57 [lcia.traci.2.1] Global Warming Air [kg CO2 eq] [TRACI 2.1]\n"
     ]
    }
   ],
   "source": [
    "baseline_result = pvc_model.fragment_lcia(gwp)\n",
    "baseline_result.show_components()"
   ]
  },
  {
   "cell_type": "markdown",
   "id": "81f26152-c2dd-4aee-bc0f-2fa760be65b0",
   "metadata": {},
   "source": [
    "# Part 2 - What are we going to do about that acrylic acid?\n",
    "seems pretty important"
   ]
  },
  {
   "cell_type": "code",
   "execution_count": 14,
   "id": "d03cd9c9-cbf3-4833-b9fe-bd834b6f7437",
   "metadata": {},
   "outputs": [
    {
     "name": "stdout",
     "output_type": "stream",
     "text": [
      "QQQQQQQQQQQQQQQQQQ lcacommons.useeio.2.0.1 QQQQQQQQQQQQQQQQQQ\n",
      "GET https://bk.vault.lc/origins.. 200 [0.19 sec]\n",
      "lcacommons.useeio.2.0.1: https://bk.vault.lc/\n",
      "lcacommons.useeio.2.0.1: Setting NSUUID (False) None\n",
      "GET https://bk.vault.lc/lcacommons.useeio.2.0.1/config.. 200 [0.05 sec]\n",
      "Applying configuration to XdbClient with 0 entities at https://bk.vault.lc/\n",
      "Applying context hint lcacommons.useeio.2.0.1:water => to water\n",
      "Applying context hint lcacommons.useeio.2.0.1:air => to air\n"
     ]
    }
   ],
   "source": [
    "q_ee = cat.query(r_useeio[0].origin)"
   ]
  },
  {
   "cell_type": "code",
   "execution_count": 15,
   "id": "896fd443-80bd-4a8c-904c-7076cac782df",
   "metadata": {},
   "outputs": [
    {
     "name": "stdout",
     "output_type": "stream",
     "text": [
      "GET https://bk.vault.lc/lcacommons.useeio.2.0.1/processes.. 200 [0.05 sec]\n",
      " [00] [lcacommons.useeio.2.0.1] Other basic inorganic chemicals [United States]\n",
      " [01] [lcacommons.useeio.2.0.1] Other basic organic chemicals [United States]\n",
      " [02] [lcacommons.useeio.2.0.1] Chemicals (except basic chemicals, agrichemicals, polymers, paints, pharmaceuticals,soaps, cleaning compounds) [United States]\n",
      " [03] [lcacommons.useeio.2.0.1] Petrochemicals [United States]\n"
     ]
    }
   ],
   "source": [
    "acr = enum(q_ee.processes(name='chem'))"
   ]
  },
  {
   "cell_type": "code",
   "execution_count": 16,
   "id": "375cb098-5ffe-4363-abf0-fe2299b67e53",
   "metadata": {},
   "outputs": [
    {
     "name": "stdout",
     "output_type": "stream",
     "text": [
      "ProcessRef catalog reference (22ca518f-918e-3f1e-8f05-9997baa9acac)\n",
      "origin: lcacommons.useeio.2.0.1\n",
      "   UUID: 22ca518f-918e-3f1e-8f05-9997baa9acac\n",
      "   Name: Other basic organic chemicals\n",
      "Comment: \n",
      "==Local Fields==\n",
      "    SpatialScope: United States\n",
      "   TemporalScope: {'begin': '2021-01-01T00:00:00', 'end': '2021-12-31T00:00:00'}\n",
      "blackbook_origin: lcacommons.useeio.2.0.1\n"
     ]
    }
   ],
   "source": [
    "acr[1].show()"
   ]
  },
  {
   "cell_type": "code",
   "execution_count": 17,
   "id": "ea6098e7-f042-476e-8913-a5d1b9b44f01",
   "metadata": {},
   "outputs": [],
   "source": [
    "acrylic_acid_proxy = acr[1]"
   ]
  },
  {
   "cell_type": "code",
   "execution_count": 18,
   "id": "063752c9-928c-4d8f-baf1-253d3f00a38c",
   "metadata": {},
   "outputs": [
    {
     "name": "stdout",
     "output_type": "stream",
     "text": [
      "GET https://bk.vault.lc/lcacommons.useeio.2.0.1/22ca518f-918e-3f1e-8f05-9997baa9acac/references.. 200 [0.05 sec]\n",
      "GET https://bk.vault.lc/lcacommons.useeio.2.0.1/3bf53920-157c-4c2f-bddd-7c92c9d35f10.. 200 [0.05 sec]\n",
      "FlowRef catalog reference (73c55a19-ecdc-3918-8dcb-8e6f7f1bf9bd)\n",
      "origin: lcacommons.useeio.2.0.1\n",
      "GET https://bk.vault.lc/lcacommons.useeio.2.0.1/contexts/3251: Basic Chemical Manufacturing.. 200 [0.05 sec]\n",
      "GET https://bk.vault.lc/lcacommons.useeio.2.0.1/contexts/31-33: Manufacturing.. 200 [0.05 sec]\n",
      "GET https://bk.vault.lc/lcacommons.useeio.2.0.1/contexts/Technosphere Flows.. 200 [0.05 sec]\n",
      "Context: 3251: Basic Chemical Manufacturing\n",
      " Locale: GLO\n",
      "   UUID: 73c55a19-ecdc-3918-8dcb-8e6f7f1bf9bd\n",
      "   Name: Other basic organic chemicals\n",
      "GET https://bk.vault.lc/lcacommons.useeio.2.0.1/73c55a19-ecdc-3918-8dcb-8e6f7f1bf9bd/doc/Comment.. 200 [0.05 sec]\n",
      "Comment: \n",
      "referenceQuantity: [lcacommons.useeio.2.0.1] Producer price, USD 2012 [USD]\n",
      "==Local Fields==\n",
      "            unit: USD\n",
      "        Synonyms: []\n",
      "blackbook_origin: lcacommons.useeio.2.0.1\n",
      "         context: ['Technosphere Flows', '31-33: Manufacturing', '3251: Basic Chemical Manufacturing']\n",
      "          locale: GLO\n"
     ]
    }
   ],
   "source": [
    "acrylic_acid_usd_2012 = acrylic_acid_proxy.reference().flow\n",
    "acrylic_acid_usd_2012.show()"
   ]
  },
  {
   "cell_type": "code",
   "execution_count": null,
   "id": "6d9f67cc-adf9-49cc-bdb0-735ad667b8ea",
   "metadata": {},
   "outputs": [],
   "source": []
  },
  {
   "cell_type": "markdown",
   "id": "6530f3f3-0c92-4b7d-8fae-d67dac51d6ea",
   "metadata": {},
   "source": [
    "## 2b Build out our model \n",
    "We use *observations* of the world that we can document"
   ]
  },
  {
   "cell_type": "code",
   "execution_count": 20,
   "id": "c1b7c341-17e4-4d6c-b93c-1e70963f7ef1",
   "metadata": {},
   "outputs": [],
   "source": [
    "cutoff_flow = fg.frag('ffb3e')"
   ]
  },
  {
   "cell_type": "code",
   "execution_count": 21,
   "id": "8aea05e9-faf8-46ef-b239-bd4694be23ed",
   "metadata": {},
   "outputs": [
    {
     "name": "stdout",
     "output_type": "stream",
     "text": [
      "(4344515) -<- ffb3e -<- ---:  [--] Acrylic acid, at plant \n",
      "LcFragment Entity (ref ffb3ea47-6bef-4ba9-86f5-5da41f6fde5a)\n",
      "origin: hybrid\n",
      "reference: (76ad11f) -<- 43445 -<- -*    [   1 kg] Vinyl ester resin; at plant \n",
      "     Name: Acrylic acid, at plant\n",
      "  Comment: Proxy for methylacrylic acid\n",
      "StageName: CUTOFF Flows\n",
      "Exchange values: \n",
      "              Cached: 0.129\n",
      "            Observed: 0.129\n",
      "\n",
      "Balance flow: False\n",
      "Terminations: \n",
      "            Scenario  Termination\n",
      "                None: ---:       None\n"
     ]
    }
   ],
   "source": [
    "cutoff_flow.show()"
   ]
  },
  {
   "cell_type": "markdown",
   "id": "829d190f-6907-4aa4-ab12-e4bcec30cb67",
   "metadata": {},
   "source": [
    "### Step 1: convert kg to USD 2024"
   ]
  },
  {
   "cell_type": "code",
   "execution_count": 19,
   "id": "541c139f-a49e-4894-91c1-f79dab8138ed",
   "metadata": {},
   "outputs": [],
   "source": [
    "usd_2024 = fg.new_quantity('USD 2024', ref_unit='USD 2024')"
   ]
  },
  {
   "cell_type": "code",
   "execution_count": 22,
   "id": "5a518294-3547-47e0-8bf7-cd2adb5b5893",
   "metadata": {},
   "outputs": [],
   "source": [
    "acr_dollars = fg.new_flow('Acrylic acid, 2024 USD per kg', ref_quantity=usd_2024)"
   ]
  },
  {
   "cell_type": "code",
   "execution_count": 23,
   "id": "292413a4-d376-462f-b5cc-5ecc6f59fa5c",
   "metadata": {},
   "outputs": [],
   "source": [
    "acr_conv_1 = fg.new_fragment(acr_dollars, 'Input', parent=cutoff_flow)"
   ]
  },
  {
   "cell_type": "code",
   "execution_count": 24,
   "id": "59783207-103e-4474-9d46-7d3ab7ddbc1c",
   "metadata": {},
   "outputs": [
    {
     "name": "stdout",
     "output_type": "stream",
     "text": [
      "   -<--O   76ad1 [       1 kg] Vinyl ester resin; at plant\n",
      "    [   1 unit] Vinyl ester resin; at plant\n",
      "       |        Stage: Vinyl ester resin; at plant\n",
      "       | -<--*   43445 (=      1 kg) Vinyl ester resin; at plant\n",
      "       |  [   1 kg] Vinyl ester resin; at plant\n",
      "       |     |        Stage: CUTOFF Flows\n",
      "       |     | -<----: 0d007 [   0.079 kg] Bisphenol A, at plant\n",
      "       |     | -<----: cadce [  0.0252 MJ] Electricity, from renewable source, unspecified\n",
      "       |     | -<----: 4c697 [   0.005 kg] Silica sand, at plant\n",
      "       |     | =>=---: 4fc40 [ 0.00064 kg] Disposal, solid waste, to incineration with energy recovery\n",
      "       |     | =>=---: 41552 [   2e-05 kg] Disposal, hazardous waste, to incineration without energy recovery\n",
      "       |     | =>=---: ad7a0 [ 0.00437 kg] Disposal, solid waste, process, to sanitary landfill\n",
      "       |     | =>=---: 55852 [ 0.00166 kg] Recycling, solid waste, to recycling or reuse\n",
      "       |     | =>=---: c7a37 [ 0.00016 kg] Disposal, solid waste, to incineration without energy recovery\n",
      "       |     | =>=---: 59127 [ 0.00225 kg] Disposal, hazardous waste, to incineration with energy recovery\n",
      "       |     | -<--O   ffb3e [   0.129 kg] Acrylic acid, at plant\n",
      "       |     |  [   1 unit] Acrylic acid, at plant\n",
      "       |     |     | -<----: d6d1a (       1 USD 2024) Acrylic acid, 2024 USD per kg\n",
      "       |     |     x \n",
      "       |     |        Stage: Electricity, at Grid, US, 2010\n",
      "       |     | -<--B*  79108 [   0.677 MJ] Electricity, at grid\n",
      "       |     |        Stage: Epoxy; at plant\n",
      "       |     | -<--B*  2ee08 [   0.428 kg] Epoxy, at plant\n",
      "       |     |        Stage: Natural gas, combusted in industrial boiler\n",
      "       |     | -<--B*  80542 [   0.054 m3] Natural gas, combusted in industrial boiler\n",
      "       |     |        Stage: Styrene; at plant\n",
      "       |     | -<--B*  770da [   0.364 kg] Styrene, at plant\n",
      "       |     |        Stage: Transport, combination truck, average fuel mix\n",
      "       |     | -<--B*  66c38 [   0.483 t*km] Transport, combination truck, average fuel mix\n",
      "       |     |        Stage: Transport, ocean freighter, average fuel mix\n",
      "       |     | -<--B*  884ea [    2.96 t*km] Transport, ocean freighter, average fuel mix\n",
      "       |     |        Stage: Transport, train, diesel powered\n",
      "       |     | -<--B*  a9c3d [   0.813 t*km] Transport, train, diesel powered\n",
      "       |     x \n",
      "       x \n"
     ]
    }
   ],
   "source": [
    "pvc_model.show_tree()"
   ]
  },
  {
   "cell_type": "markdown",
   "id": "63dd67c3-a3f2-4328-af13-ffd6641c69bc",
   "metadata": {},
   "source": [
    "The cutoff now shows the same amount, but it's reported in units of USD"
   ]
  },
  {
   "cell_type": "code",
   "execution_count": 25,
   "id": "d6b5b115-c72f-43ed-b625-d82572315007",
   "metadata": {},
   "outputs": [
    {
     "name": "stdout",
     "output_type": "stream",
     "text": [
      " [00] [ Vinyl ester resin; at plant ] <--  0.129 (USD 2024) Acrylic acid, 2024 USD per kg  (cutoff)\n",
      " [01] [ Vinyl ester resin; at plant ] <--  0.079 (kg) Bisphenol A, at plant  (cutoff)\n",
      " [02] [ Vinyl ester resin; at plant ] <--  0.0252 (MJ) Electricity, from renewable source, unspecified  (cutoff)\n",
      " [03] [ Vinyl ester resin; at plant ] <--  0.005 (kg) Silica sand, at plant  (cutoff)\n",
      " [04] [ Vinyl ester resin; at plant ]*==>  1 (kg) Vinyl ester resin; at plant \n",
      " [05] [ Vinyl ester resin; at plant ] ==>  0.00437 (kg) Disposal, solid waste, process, to sanitary landfill  (cutoff)\n",
      " [06] [ Vinyl ester resin; at plant ] ==>  0.00225 (kg) Disposal, hazardous waste, to incineration with energy recovery  (cutoff)\n",
      " [07] [ Vinyl ester resin; at plant ] ==>  0.00166 (kg) Recycling, solid waste, to recycling or reuse  (cutoff)\n",
      " [08] [ Vinyl ester resin; at plant ] ==>  0.00064 (kg) Disposal, solid waste, to incineration with energy recovery  (cutoff)\n",
      " [09] [ Vinyl ester resin; at plant ] ==>  0.00016 (kg) Disposal, solid waste, to incineration without energy recovery  (cutoff)\n",
      " [10] [ Vinyl ester resin; at plant ] ==>  2e-05 (kg) Disposal, hazardous waste, to incineration without energy recovery  (cutoff)\n"
     ]
    }
   ],
   "source": [
    "_=enum(pvc_model.cutoffs())"
   ]
  },
  {
   "cell_type": "markdown",
   "id": "b90105bd-1b2e-4966-a79c-b277b8e1d6f1",
   "metadata": {},
   "source": [
    "We want to set the price of acrylic acid - something we can *observe*"
   ]
  },
  {
   "cell_type": "code",
   "execution_count": 26,
   "id": "0c037202-eea2-4bc8-b488-0a165ec7346f",
   "metadata": {},
   "outputs": [],
   "source": [
    "acr_conv_1.observe(15)  # USD 2024 per kg"
   ]
  },
  {
   "cell_type": "code",
   "execution_count": 30,
   "id": "9492dbc6-06ad-4f22-ab9d-abbfa73fb5a8",
   "metadata": {},
   "outputs": [
    {
     "name": "stdout",
     "output_type": "stream",
     "text": [
      " [00] [ Vinyl ester resin; at plant ] <--  0.129 (USD 2024) Acrylic acid, 2024 USD per kg  (cutoff)\n",
      " [01] [ Vinyl ester resin; at plant ] <--  0.079 (kg) Bisphenol A, at plant  (cutoff)\n",
      " [02] [ Vinyl ester resin; at plant ] <--  0.0252 (MJ) Electricity, from renewable source, unspecified  (cutoff)\n",
      " [03] [ Vinyl ester resin; at plant ] <--  0.005 (kg) Silica sand, at plant  (cutoff)\n",
      " [04] [ Vinyl ester resin; at plant ]*==>  1 (kg) Vinyl ester resin; at plant \n",
      " [05] [ Vinyl ester resin; at plant ] ==>  0.00437 (kg) Disposal, solid waste, process, to sanitary landfill  (cutoff)\n",
      " [06] [ Vinyl ester resin; at plant ] ==>  0.00225 (kg) Disposal, hazardous waste, to incineration with energy recovery  (cutoff)\n",
      " [07] [ Vinyl ester resin; at plant ] ==>  0.00166 (kg) Recycling, solid waste, to recycling or reuse  (cutoff)\n",
      " [08] [ Vinyl ester resin; at plant ] ==>  0.00064 (kg) Disposal, solid waste, to incineration with energy recovery  (cutoff)\n",
      " [09] [ Vinyl ester resin; at plant ] ==>  0.00016 (kg) Disposal, solid waste, to incineration without energy recovery  (cutoff)\n",
      " [10] [ Vinyl ester resin; at plant ] ==>  2e-05 (kg) Disposal, hazardous waste, to incineration without energy recovery  (cutoff)\n"
     ]
    }
   ],
   "source": [
    "_=enum(pvc_model.cutoffs())"
   ]
  },
  {
   "cell_type": "markdown",
   "id": "e18c974c-eef2-4a0d-a9ed-4afb9cb581d8",
   "metadata": {},
   "source": [
    "#### Hold on\n",
    "Why didn't it change??\n",
    "\n",
    "Because Antelope fragments distinguish between a flow's \"default\" value and its \"observed\" value.  When you run LCIA, it always uses observed values- but during model construction default values are shown.\n",
    "\n",
    "We can specify to run the *observed* numbers, however:"
   ]
  },
  {
   "cell_type": "code",
   "execution_count": 29,
   "id": "86ccff29-0b25-4ca6-8636-daeaec0e6861",
   "metadata": {},
   "outputs": [
    {
     "name": "stdout",
     "output_type": "stream",
     "text": [
      " [00] [ Vinyl ester resin; at plant ] <--  1.94 (USD 2024) Acrylic acid, 2024 USD per kg  (cutoff)\n",
      " [01] [ Vinyl ester resin; at plant ] <--  0.079 (kg) Bisphenol A, at plant  (cutoff)\n",
      " [02] [ Vinyl ester resin; at plant ] <--  0.0252 (MJ) Electricity, from renewable source, unspecified  (cutoff)\n",
      " [03] [ Vinyl ester resin; at plant ] <--  0.005 (kg) Silica sand, at plant  (cutoff)\n",
      " [04] [ Vinyl ester resin; at plant ]*==>  1 (kg) Vinyl ester resin; at plant \n",
      " [05] [ Vinyl ester resin; at plant ] ==>  0.00437 (kg) Disposal, solid waste, process, to sanitary landfill  (cutoff)\n",
      " [06] [ Vinyl ester resin; at plant ] ==>  0.00225 (kg) Disposal, hazardous waste, to incineration with energy recovery  (cutoff)\n",
      " [07] [ Vinyl ester resin; at plant ] ==>  0.00166 (kg) Recycling, solid waste, to recycling or reuse  (cutoff)\n",
      " [08] [ Vinyl ester resin; at plant ] ==>  0.00064 (kg) Disposal, solid waste, to incineration with energy recovery  (cutoff)\n",
      " [09] [ Vinyl ester resin; at plant ] ==>  0.00016 (kg) Disposal, solid waste, to incineration without energy recovery  (cutoff)\n",
      " [10] [ Vinyl ester resin; at plant ] ==>  2e-05 (kg) Disposal, hazardous waste, to incineration without energy recovery  (cutoff)\n"
     ]
    }
   ],
   "source": [
    "_=enum(pvc_model.cutoffs(observed=True))"
   ]
  },
  {
   "cell_type": "code",
   "execution_count": 33,
   "id": "1d3a09b3-bb0a-47a9-8a4b-3dfdf7cc038f",
   "metadata": {},
   "outputs": [
    {
     "name": "stdout",
     "output_type": "stream",
     "text": [
      "(ffb3ea4) -<- d6d1a -<- ---:  [--] Acrylic acid, 2024 USD per kg \n",
      "LcFragment Entity (ref d6d1a3e7-79be-40b3-91b6-422424301bf3)\n",
      "origin: hybrid\n",
      "reference: (4344515) -<- ffb3e -<- -O    [   1 unit] Acrylic acid, at plant \n",
      "     Name: Acrylic acid, 2024 USD per kg\n",
      "  Comment: \n",
      "StageName: \n",
      "Exchange values: \n",
      "              Cached: 15\n",
      "            Observed: 15\n",
      "\n",
      "Balance flow: False\n",
      "Terminations: \n",
      "            Scenario  Termination\n",
      "                None: ---:       None\n"
     ]
    }
   ],
   "source": [
    "acr_conv_1.show()"
   ]
  },
  {
   "cell_type": "code",
   "execution_count": 32,
   "id": "c5e414c5-8c6b-4170-b218-08cb85bffb91",
   "metadata": {},
   "outputs": [],
   "source": [
    "acr_conv_1.cached_ev = acr_conv_1.observed_ev"
   ]
  },
  {
   "cell_type": "code",
   "execution_count": null,
   "id": "d77e9a29-2bd9-4897-9517-a5de548ea297",
   "metadata": {},
   "outputs": [],
   "source": [
    "acr_conv_1.show()"
   ]
  },
  {
   "cell_type": "markdown",
   "id": "460e599b-18db-4e13-8e82-08a782a1f9b5",
   "metadata": {},
   "source": [
    "### Step 2 - Convert 2024 USD to 2012 USD\n",
    "This is a fixed value, so we can \"characterize\" our flow\n",
    "\n",
    "We don't need to make a new quantity in this case because we already have one"
   ]
  },
  {
   "cell_type": "code",
   "execution_count": 34,
   "id": "d9cf5ac7-ac72-44b3-9b8b-d8a3c7e21dcd",
   "metadata": {},
   "outputs": [],
   "source": [
    "usd_2012 = acrylic_acid_usd_2012.reference_entity"
   ]
  },
  {
   "cell_type": "code",
   "execution_count": 36,
   "id": "e370683b-df62-456b-aa4f-75c999201786",
   "metadata": {},
   "outputs": [
    {
     "data": {
      "text/plain": [
       "Characterization(Acrylic acid, 2024 USD per kg, USD 2024, None:   0.57 (USD))"
      ]
     },
     "execution_count": 36,
     "metadata": {},
     "output_type": "execute_result"
    }
   ],
   "source": [
    "acr_dollars.characterize(usd_2012, 0.57)"
   ]
  },
  {
   "cell_type": "code",
   "execution_count": 37,
   "id": "fc7ff248-2481-4b9a-83b9-170f2be6d256",
   "metadata": {},
   "outputs": [],
   "source": [
    "acr_conv_2 = fg.new_fragment(acrylic_acid_usd_2012, 'Input', parent=acr_conv_1, balance=True)"
   ]
  },
  {
   "cell_type": "code",
   "execution_count": 38,
   "id": "8fa419f3-62e7-4ebc-adcc-1e906083329d",
   "metadata": {},
   "outputs": [
    {
     "name": "stdout",
     "output_type": "stream",
     "text": [
      "   -<--O   76ad1 [       1 kg] Vinyl ester resin; at plant\n",
      "    [   1 unit] Vinyl ester resin; at plant\n",
      "       |        Stage: Vinyl ester resin; at plant\n",
      "       | -<--*   43445 (=      1 kg) Vinyl ester resin; at plant\n",
      "       |  [   1 kg] Vinyl ester resin; at plant\n",
      "       |     |        Stage: CUTOFF Flows\n",
      "       |     | -<----: 0d007 [   0.079 kg] Bisphenol A, at plant\n",
      "       |     | -<----: cadce [  0.0252 MJ] Electricity, from renewable source, unspecified\n",
      "       |     | -<----: 4c697 [   0.005 kg] Silica sand, at plant\n",
      "       |     | =>=---: 4fc40 [ 0.00064 kg] Disposal, solid waste, to incineration with energy recovery\n",
      "       |     | =>=---: 41552 [   2e-05 kg] Disposal, hazardous waste, to incineration without energy recovery\n",
      "       |     | =>=---: ad7a0 [ 0.00437 kg] Disposal, solid waste, process, to sanitary landfill\n",
      "       |     | =>=---: 55852 [ 0.00166 kg] Recycling, solid waste, to recycling or reuse\n",
      "       |     | =>=---: c7a37 [ 0.00016 kg] Disposal, solid waste, to incineration without energy recovery\n",
      "       |     | =>=---: 59127 [ 0.00225 kg] Disposal, hazardous waste, to incineration with energy recovery\n",
      "       |     | -<--O   ffb3e [   0.129 kg] Acrylic acid, at plant\n",
      "       |     |  [   1 unit] Acrylic acid, at plant\n",
      "       |     |     | -<--O   d6d1a [      15 USD 2024] Acrylic acid, 2024 USD per kg\n",
      "       |     |     |  [   1 unit] Acrylic acid, 2024 USD per kg\n",
      "       |     |     |     | -<----: 4ff0f (=      1 USD) Other basic organic chemicals\n",
      "       |     |     |     x \n",
      "       |     |     x \n",
      "       |     |        Stage: Electricity, at Grid, US, 2010\n",
      "       |     | -<--B*  79108 [   0.677 MJ] Electricity, at grid\n",
      "       |     |        Stage: Epoxy; at plant\n",
      "       |     | -<--B*  2ee08 [   0.428 kg] Epoxy, at plant\n",
      "       |     |        Stage: Natural gas, combusted in industrial boiler\n",
      "       |     | -<--B*  80542 [   0.054 m3] Natural gas, combusted in industrial boiler\n",
      "       |     |        Stage: Styrene; at plant\n",
      "       |     | -<--B*  770da [   0.364 kg] Styrene, at plant\n",
      "       |     |        Stage: Transport, combination truck, average fuel mix\n",
      "       |     | -<--B*  66c38 [   0.483 t*km] Transport, combination truck, average fuel mix\n",
      "       |     |        Stage: Transport, ocean freighter, average fuel mix\n",
      "       |     | -<--B*  884ea [    2.96 t*km] Transport, ocean freighter, average fuel mix\n",
      "       |     |        Stage: Transport, train, diesel powered\n",
      "       |     | -<--B*  a9c3d [   0.813 t*km] Transport, train, diesel powered\n",
      "       |     x \n",
      "       x \n"
     ]
    }
   ],
   "source": [
    "pvc_model.show_tree()"
   ]
  },
  {
   "cell_type": "code",
   "execution_count": 39,
   "id": "ef3aef17-bd55-4eb3-a89b-8aba64349a4e",
   "metadata": {},
   "outputs": [
    {
     "name": "stdout",
     "output_type": "stream",
     "text": [
      " [00] [ Vinyl ester resin; at plant ] <--  1.1 (USD) Other basic organic chemicals  (cutoff)\n",
      " [01] [ Vinyl ester resin; at plant ] <--  0.079 (kg) Bisphenol A, at plant  (cutoff)\n",
      " [02] [ Vinyl ester resin; at plant ] <--  0.0252 (MJ) Electricity, from renewable source, unspecified  (cutoff)\n",
      " [03] [ Vinyl ester resin; at plant ] <--  0.005 (kg) Silica sand, at plant  (cutoff)\n",
      " [04] [ Vinyl ester resin; at plant ]*==>  1 (kg) Vinyl ester resin; at plant \n",
      " [05] [ Vinyl ester resin; at plant ] ==>  0.00437 (kg) Disposal, solid waste, process, to sanitary landfill  (cutoff)\n",
      " [06] [ Vinyl ester resin; at plant ] ==>  0.00225 (kg) Disposal, hazardous waste, to incineration with energy recovery  (cutoff)\n",
      " [07] [ Vinyl ester resin; at plant ] ==>  0.00166 (kg) Recycling, solid waste, to recycling or reuse  (cutoff)\n",
      " [08] [ Vinyl ester resin; at plant ] ==>  0.00064 (kg) Disposal, solid waste, to incineration with energy recovery  (cutoff)\n",
      " [09] [ Vinyl ester resin; at plant ] ==>  0.00016 (kg) Disposal, solid waste, to incineration without energy recovery  (cutoff)\n",
      " [10] [ Vinyl ester resin; at plant ] ==>  2e-05 (kg) Disposal, hazardous waste, to incineration without energy recovery  (cutoff)\n"
     ]
    }
   ],
   "source": [
    "_=enum(pvc_model.cutoffs(observed=True))"
   ]
  },
  {
   "cell_type": "code",
   "execution_count": null,
   "id": "74790842-2f05-446c-b6b4-58c9b6e20dbf",
   "metadata": {},
   "outputs": [],
   "source": []
  },
  {
   "cell_type": "code",
   "execution_count": 42,
   "id": "c2087e47-52cb-4e29-a3b8-8a674729d539",
   "metadata": {},
   "outputs": [
    {
     "data": {
      "text/plain": [
       "<antelope_foreground.terminations.FlowTermination at 0x7361f1d097d0>"
      ]
     },
     "execution_count": 42,
     "metadata": {},
     "output_type": "execute_result"
    }
   ],
   "source": [
    "acr_conv_2.terminate(acrylic_acid_proxy)"
   ]
  },
  {
   "cell_type": "code",
   "execution_count": 43,
   "id": "61501e41-6363-430e-931b-9e60d9314d33",
   "metadata": {},
   "outputs": [
    {
     "name": "stdout",
     "output_type": "stream",
     "text": [
      " [00] [ Vinyl ester resin; at plant ] <--  0.079 (kg) Bisphenol A, at plant  (cutoff)\n",
      " [01] [ Vinyl ester resin; at plant ] <--  0.0252 (MJ) Electricity, from renewable source, unspecified  (cutoff)\n",
      " [02] [ Vinyl ester resin; at plant ] <--  0.005 (kg) Silica sand, at plant  (cutoff)\n",
      " [03] [ Vinyl ester resin; at plant ]*==>  1 (kg) Vinyl ester resin; at plant \n",
      " [04] [ Vinyl ester resin; at plant ] ==>  0.00437 (kg) Disposal, solid waste, process, to sanitary landfill  (cutoff)\n",
      " [05] [ Vinyl ester resin; at plant ] ==>  0.00225 (kg) Disposal, hazardous waste, to incineration with energy recovery  (cutoff)\n",
      " [06] [ Vinyl ester resin; at plant ] ==>  0.00166 (kg) Recycling, solid waste, to recycling or reuse  (cutoff)\n",
      " [07] [ Vinyl ester resin; at plant ] ==>  0.00064 (kg) Disposal, solid waste, to incineration with energy recovery  (cutoff)\n",
      " [08] [ Vinyl ester resin; at plant ] ==>  0.00016 (kg) Disposal, solid waste, to incineration without energy recovery  (cutoff)\n",
      " [09] [ Vinyl ester resin; at plant ] ==>  2e-05 (kg) Disposal, hazardous waste, to incineration without energy recovery  (cutoff)\n"
     ]
    }
   ],
   "source": [
    "_=enum(pvc_model.cutoffs(observed=True))"
   ]
  },
  {
   "cell_type": "code",
   "execution_count": null,
   "id": "b30bccca-a6d5-4e83-8495-bd6af53041b8",
   "metadata": {},
   "outputs": [],
   "source": []
  },
  {
   "cell_type": "code",
   "execution_count": 44,
   "id": "396b2d55-2acd-4a48-b661-6582a400cb73",
   "metadata": {},
   "outputs": [
    {
     "name": "stdout",
     "output_type": "stream",
     "text": [
      "   -<--O   76ad1 [       1 kg] Vinyl ester resin; at plant\n",
      "    [   1 unit] Vinyl ester resin; at plant\n",
      "       |        Stage: Vinyl ester resin; at plant\n",
      "       | -<--*   43445 (=      1 kg) Vinyl ester resin; at plant\n",
      "       |  [   1 kg] Vinyl ester resin; at plant\n",
      "       |     |        Stage: CUTOFF Flows\n",
      "       |     | -<----: 0d007 [   0.079 kg] Bisphenol A, at plant\n",
      "       |     | -<----: cadce [  0.0252 MJ] Electricity, from renewable source, unspecified\n",
      "       |     | -<----: 4c697 [   0.005 kg] Silica sand, at plant\n",
      "       |     | =>=---: 4fc40 [ 0.00064 kg] Disposal, solid waste, to incineration with energy recovery\n",
      "       |     | =>=---: 41552 [   2e-05 kg] Disposal, hazardous waste, to incineration without energy recovery\n",
      "       |     | =>=---: ad7a0 [ 0.00437 kg] Disposal, solid waste, process, to sanitary landfill\n",
      "       |     | =>=---: 55852 [ 0.00166 kg] Recycling, solid waste, to recycling or reuse\n",
      "       |     | =>=---: c7a37 [ 0.00016 kg] Disposal, solid waste, to incineration without energy recovery\n",
      "       |     | =>=---: 59127 [ 0.00225 kg] Disposal, hazardous waste, to incineration with energy recovery\n",
      "       |     | -<--O   ffb3e [   0.129 kg] Acrylic acid, at plant\n",
      "       |     |  [   1 unit] Acrylic acid, at plant\n",
      "       |     |     | -<--O   d6d1a [      15 USD 2024] Acrylic acid, 2024 USD per kg\n",
      "       |     |     |  [   1 unit] Acrylic acid, 2024 USD per kg\n",
      "       |     |     |     |        Stage: Other basic organic chemicals\n",
      "       |     |     |     | -<--B*  4ff0f (=      1 USD) Other basic organic chemicals\n",
      "       |     |     |     x \n",
      "       |     |     x \n",
      "       |     |        Stage: Electricity, at Grid, US, 2010\n",
      "       |     | -<--B*  79108 [   0.677 MJ] Electricity, at grid\n",
      "       |     |        Stage: Epoxy; at plant\n",
      "       |     | -<--B*  2ee08 [   0.428 kg] Epoxy, at plant\n",
      "       |     |        Stage: Natural gas, combusted in industrial boiler\n",
      "       |     | -<--B*  80542 [   0.054 m3] Natural gas, combusted in industrial boiler\n",
      "       |     |        Stage: Styrene; at plant\n",
      "       |     | -<--B*  770da [   0.364 kg] Styrene, at plant\n",
      "       |     |        Stage: Transport, combination truck, average fuel mix\n",
      "       |     | -<--B*  66c38 [   0.483 t*km] Transport, combination truck, average fuel mix\n",
      "       |     |        Stage: Transport, ocean freighter, average fuel mix\n",
      "       |     | -<--B*  884ea [    2.96 t*km] Transport, ocean freighter, average fuel mix\n",
      "       |     |        Stage: Transport, train, diesel powered\n",
      "       |     | -<--B*  a9c3d [   0.813 t*km] Transport, train, diesel powered\n",
      "       |     x \n",
      "       x \n"
     ]
    }
   ],
   "source": [
    "pvc_model.show_tree()"
   ]
  },
  {
   "cell_type": "code",
   "execution_count": 45,
   "id": "8e7c6667-464c-46b9-a7b7-95ca26918fbd",
   "metadata": {},
   "outputs": [
    {
     "name": "stdout",
     "output_type": "stream",
     "text": [
      "GET https://bk.vault.lc/lcacommons.useeio.2.0.1/22ca518f-918e-3f1e-8f05-9997baa9acac/73c55a19-ecdc-3918-8dcb-8e6f7f1bf9bd/lcia/Global Warming Air.. 200 [0.26 sec]\n",
      "[lcia.traci.2.1] Global Warming Air [kg CO2 eq] [TRACI 2.1] kg CO2 eq\n",
      "------------------------------------------------------------\n",
      "S      3.05 =      0.428 x       7.13 | 2ee08       0.428 [ Input] -B*  Epoxy; at plant [United States]\n",
      "S      1.81 =        1.1 x       1.64 | 4ff0f         1.1 [ Input] -B*  Other basic organic chemicals [United States]\n",
      "S      1.16 =      0.364 x       3.18 | 770da       0.364 [ Input] -B*  Styrene; at plant [Northern America]\n",
      "S     0.132 =      0.054 x       2.44 | 80542       0.054 [ Input] -B*  Natural gas, combusted in industrial boiler [Northern America]\n",
      "S     0.101 =      0.677 x       0.15 | 79108       0.677 [ Input] -B*  Electricity, at Grid, US, 2010 [Northern America]\n",
      "S      0.06 =       2.96 x     0.0203 | 884ea        2.96 [ Input] -B*  Transport, ocean freighter, average fuel mix [United States]\n",
      "S    0.0495 =      0.483 x      0.103 | 66c38       0.483 [ Input] -B*  Transport, combination truck, average fuel mix [Northern America]\n",
      "S    0.0198 =      0.813 x     0.0244 | a9c3d       0.813 [ Input] -B*  Transport, train, diesel powered [Northern America]\n",
      "==========\n",
      "      6.38 [lcia.traci.2.1] Global Warming Air [kg CO2 eq] [TRACI 2.1]\n"
     ]
    }
   ],
   "source": [
    "pvc_model.fragment_lcia(gwp).show_components()"
   ]
  },
  {
   "cell_type": "code",
   "execution_count": null,
   "id": "35acc479-a804-4f06-914b-a3f1838e965f",
   "metadata": {},
   "outputs": [],
   "source": []
  },
  {
   "cell_type": "markdown",
   "id": "ad152e94-312b-4af5-9bb8-d17a1b3f70a0",
   "metadata": {},
   "source": [
    "## 3 But wait, there's more\n",
    "We can also use observations to set scenarios\n",
    "\n",
    "### Step 1 - change market price of acrylic acid"
   ]
  },
  {
   "cell_type": "code",
   "execution_count": 47,
   "id": "840a90b1-ce07-4979-b263-f398ac4110ce",
   "metadata": {},
   "outputs": [],
   "source": [
    "acr_conv_1.observe(45, scenario='high inflation')"
   ]
  },
  {
   "cell_type": "code",
   "execution_count": 48,
   "id": "d7e9cff1-3217-411b-9993-0cb0162fb0ea",
   "metadata": {},
   "outputs": [
    {
     "name": "stdout",
     "output_type": "stream",
     "text": [
      "(ffb3ea4) -<- d6d1a -<- -O    [   1 unit] Acrylic acid, 2024 USD per kg \n",
      "LcFragment Entity (ref d6d1a3e7-79be-40b3-91b6-422424301bf3)\n",
      "origin: hybrid\n",
      "reference: (4344515) -<- ffb3e -<- -O    [   1 unit] Acrylic acid, at plant \n",
      "     Name: Acrylic acid, 2024 USD per kg\n",
      "  Comment: \n",
      "StageName: \n",
      "Exchange values: \n",
      "              Cached: 15\n",
      "            Observed: 15\n",
      "      high inflation: 45\n",
      "\n",
      "Balance flow: False\n",
      "Terminations: \n",
      "            Scenario  Termination\n",
      "                None: -O   Foreground\n"
     ]
    }
   ],
   "source": [
    "acr_conv_1.show()"
   ]
  },
  {
   "cell_type": "code",
   "execution_count": 49,
   "id": "5ef7540a-af46-4172-b6c4-c22d94dae8d0",
   "metadata": {},
   "outputs": [
    {
     "name": "stdout",
     "output_type": "stream",
     "text": [
      "[lcia.traci.2.1] Global Warming Air [kg CO2 eq] [TRACI 2.1] kg CO2 eq\n",
      "------------------------------------------------------------\n",
      "S      5.42 =       3.31 x       1.64 | 4ff0f        3.31 [ Input] -B*  Other basic organic chemicals [United States]\n",
      "S      3.05 =      0.428 x       7.13 | 2ee08       0.428 [ Input] -B*  Epoxy; at plant [United States]\n",
      "S      1.16 =      0.364 x       3.18 | 770da       0.364 [ Input] -B*  Styrene; at plant [Northern America]\n",
      "S     0.132 =      0.054 x       2.44 | 80542       0.054 [ Input] -B*  Natural gas, combusted in industrial boiler [Northern America]\n",
      "S     0.101 =      0.677 x       0.15 | 79108       0.677 [ Input] -B*  Electricity, at Grid, US, 2010 [Northern America]\n",
      "S      0.06 =       2.96 x     0.0203 | 884ea        2.96 [ Input] -B*  Transport, ocean freighter, average fuel mix [United States]\n",
      "S    0.0495 =      0.483 x      0.103 | 66c38       0.483 [ Input] -B*  Transport, combination truck, average fuel mix [Northern America]\n",
      "S    0.0198 =      0.813 x     0.0244 | a9c3d       0.813 [ Input] -B*  Transport, train, diesel powered [Northern America]\n",
      "==========\n",
      "      9.99 [lcia.traci.2.1] Global Warming Air [kg CO2 eq] [TRACI 2.1]\n"
     ]
    }
   ],
   "source": [
    "pvc_model.fragment_lcia(gwp, scenario='high inflation').show_components()"
   ]
  },
  {
   "cell_type": "markdown",
   "id": "d49f6605-3fcc-432f-b81e-b46aaf66a8cb",
   "metadata": {},
   "source": [
    "### Step 2 - change proxy model for acrylic acid"
   ]
  },
  {
   "cell_type": "code",
   "execution_count": 50,
   "id": "9d6b2a2d-33eb-4140-a8de-b9f846efb999",
   "metadata": {},
   "outputs": [
    {
     "name": "stdout",
     "output_type": "stream",
     "text": [
      " [00] [lcacommons.useeio.2.0.1] Other basic inorganic chemicals [United States]\n",
      " [01] [lcacommons.useeio.2.0.1] Other basic organic chemicals [United States]\n",
      " [02] [lcacommons.useeio.2.0.1] Chemicals (except basic chemicals, agrichemicals, polymers, paints, pharmaceuticals,soaps, cleaning compounds) [United States]\n",
      " [03] [lcacommons.useeio.2.0.1] Petrochemicals [United States]\n"
     ]
    }
   ],
   "source": [
    "_=enum(acr)"
   ]
  },
  {
   "cell_type": "code",
   "execution_count": 51,
   "id": "7f653ae5-59c2-4ace-8a10-53d71107c4d8",
   "metadata": {},
   "outputs": [
    {
     "name": "stdout",
     "output_type": "stream",
     "text": [
      "(d6d1a3e) -<- 4ff0f -<- -B*   [   1 USD] Other basic organic chemicals \n",
      "LcFragment Entity (ref 4ff0f4c8-7bf4-4469-935d-04caaaaf1f8b)\n",
      "origin: hybrid\n",
      "reference: (ffb3ea4) -<- d6d1a -<- -O    [   1 unit] Acrylic acid, 2024 USD per kg \n",
      "     Name: Other basic organic chemicals\n",
      "  Comment: \n",
      "StageName: Other basic organic chemicals\n",
      "Exchange values: \n",
      "              Cached: 1\n",
      "            Observed: 0\n",
      "\n",
      "Balance flow: True ([lcacommons.useeio.2.0.1] Producer price, USD 2012 [USD])\n",
      "Terminations: \n",
      "            Scenario  Termination\n",
      "                None: -B*        [lcacommons.useeio.2.0.1] Other basic organic chemicals [United States]\n"
     ]
    }
   ],
   "source": [
    "acr_conv_2.show()"
   ]
  },
  {
   "cell_type": "code",
   "execution_count": 52,
   "id": "946b4dd3-faa7-497a-a321-1df87230a325",
   "metadata": {},
   "outputs": [
    {
     "name": "stdout",
     "output_type": "stream",
     "text": [
      "GET https://bk.vault.lc/lcacommons.useeio.2.0.1/e2d57345-e81e-39ce-a69f-3899e31c6f3f/references.. 200 [0.21 sec]\n"
     ]
    },
    {
     "data": {
      "text/plain": [
       "<antelope_foreground.terminations.FlowTermination at 0x7361f1d64150>"
      ]
     },
     "execution_count": 52,
     "metadata": {},
     "output_type": "execute_result"
    }
   ],
   "source": [
    "acr_conv_2.terminate(acr[3], scenario='petro proxy')"
   ]
  },
  {
   "cell_type": "code",
   "execution_count": 53,
   "id": "9a70dcbc-76a5-40d4-b419-0a499a6c3235",
   "metadata": {},
   "outputs": [
    {
     "name": "stdout",
     "output_type": "stream",
     "text": [
      "GET https://bk.vault.lc/lcacommons.useeio.2.0.1/e2d57345-e81e-39ce-a69f-3899e31c6f3f/b42091c0-2aeb-38b6-b243-33bf8b71273f/lcia/Global Warming Air.. 200 [0.30 sec]\n",
      "[lcia.traci.2.1] Global Warming Air [kg CO2 eq] [TRACI 2.1] kg CO2 eq\n",
      "------------------------------------------------------------\n",
      "S      3.05 =      0.428 x       7.13 | 2ee08       0.428 [ Input] -B*  Epoxy; at plant [United States]\n",
      "S      1.16 =      0.364 x       3.18 | 770da       0.364 [ Input] -B*  Styrene; at plant [Northern America]\n",
      "S      1.03 =        1.1 x      0.937 | 4ff0f         1.1 [ Input] -B*  Petrochemicals [United States]\n",
      "S     0.132 =      0.054 x       2.44 | 80542       0.054 [ Input] -B*  Natural gas, combusted in industrial boiler [Northern America]\n",
      "S     0.101 =      0.677 x       0.15 | 79108       0.677 [ Input] -B*  Electricity, at Grid, US, 2010 [Northern America]\n",
      "S      0.06 =       2.96 x     0.0203 | 884ea        2.96 [ Input] -B*  Transport, ocean freighter, average fuel mix [United States]\n",
      "S    0.0495 =      0.483 x      0.103 | 66c38       0.483 [ Input] -B*  Transport, combination truck, average fuel mix [Northern America]\n",
      "S    0.0198 =      0.813 x     0.0244 | a9c3d       0.813 [ Input] -B*  Transport, train, diesel powered [Northern America]\n",
      "==========\n",
      "      5.61 [lcia.traci.2.1] Global Warming Air [kg CO2 eq] [TRACI 2.1]\n"
     ]
    }
   ],
   "source": [
    "pvc_model.fragment_lcia(gwp, scenario='petro proxy').show_components()"
   ]
  },
  {
   "cell_type": "markdown",
   "id": "184e2263-ed74-4689-8311-be56aed406ea",
   "metadata": {},
   "source": [
    "#### mix scenarios together"
   ]
  },
  {
   "cell_type": "code",
   "execution_count": 55,
   "id": "9b03f72e-21e2-4958-b151-ae15f338e291",
   "metadata": {},
   "outputs": [
    {
     "name": "stdout",
     "output_type": "stream",
     "text": [
      "[lcia.traci.2.1] Global Warming Air [kg CO2 eq] [TRACI 2.1] kg CO2 eq\n",
      "------------------------------------------------------------\n",
      "S       3.1 =       3.31 x      0.937 | 4ff0f        3.31 [ Input] -B*  Petrochemicals [United States]\n",
      "S      3.05 =      0.428 x       7.13 | 2ee08       0.428 [ Input] -B*  Epoxy; at plant [United States]\n",
      "S      1.16 =      0.364 x       3.18 | 770da       0.364 [ Input] -B*  Styrene; at plant [Northern America]\n",
      "S     0.132 =      0.054 x       2.44 | 80542       0.054 [ Input] -B*  Natural gas, combusted in industrial boiler [Northern America]\n",
      "S     0.101 =      0.677 x       0.15 | 79108       0.677 [ Input] -B*  Electricity, at Grid, US, 2010 [Northern America]\n",
      "S      0.06 =       2.96 x     0.0203 | 884ea        2.96 [ Input] -B*  Transport, ocean freighter, average fuel mix [United States]\n",
      "S    0.0495 =      0.483 x      0.103 | 66c38       0.483 [ Input] -B*  Transport, combination truck, average fuel mix [Northern America]\n",
      "S    0.0198 =      0.813 x     0.0244 | a9c3d       0.813 [ Input] -B*  Transport, train, diesel powered [Northern America]\n",
      "==========\n",
      "      7.67 [lcia.traci.2.1] Global Warming Air [kg CO2 eq] [TRACI 2.1]\n"
     ]
    }
   ],
   "source": [
    "pvc_model.fragment_lcia(gwp, scenario=('high inflation', 'petro proxy')).show_components()"
   ]
  }
 ],
 "metadata": {
  "kernelspec": {
   "display_name": "size",
   "language": "python",
   "name": "size"
  },
  "language_info": {
   "codemirror_mode": {
    "name": "ipython",
    "version": 3
   },
   "file_extension": ".py",
   "mimetype": "text/x-python",
   "name": "python",
   "nbconvert_exporter": "python",
   "pygments_lexer": "ipython3",
   "version": "3.11.7"
  }
 },
 "nbformat": 4,
 "nbformat_minor": 5
}
